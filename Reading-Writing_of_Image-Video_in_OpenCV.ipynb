{
 "cells": [
  {
   "cell_type": "code",
   "execution_count": 1,
   "metadata": {},
   "outputs": [],
   "source": [
    "import cv2 as cv"
   ]
  },
  {
   "cell_type": "markdown",
   "metadata": {},
   "source": [
    "# Image"
   ]
  },
  {
   "cell_type": "code",
   "execution_count": 2,
   "metadata": {
    "scrolled": true
   },
   "outputs": [
    {
     "data": {
      "text/plain": [
       "array([[[ 28,  35,  44],\n",
       "        [ 28,  35,  44],\n",
       "        [ 28,  35,  44],\n",
       "        ...,\n",
       "        [178, 197, 212],\n",
       "        [178, 197, 212],\n",
       "        [177, 195, 212]],\n",
       "\n",
       "       [[ 28,  35,  44],\n",
       "        [ 28,  35,  44],\n",
       "        [ 29,  36,  45],\n",
       "        ...,\n",
       "        [178, 197, 212],\n",
       "        [178, 197, 212],\n",
       "        [177, 195, 212]],\n",
       "\n",
       "       [[ 28,  35,  44],\n",
       "        [ 29,  36,  45],\n",
       "        [ 29,  36,  45],\n",
       "        ...,\n",
       "        [178, 197, 212],\n",
       "        [178, 197, 212],\n",
       "        [177, 195, 212]],\n",
       "\n",
       "       ...,\n",
       "\n",
       "       [[ 19,  16,  11],\n",
       "        [ 19,  16,  11],\n",
       "        [ 23,  17,  12],\n",
       "        ...,\n",
       "        [120, 136, 149],\n",
       "        [120, 136, 149],\n",
       "        [120, 136, 149]],\n",
       "\n",
       "       [[ 19,  16,  11],\n",
       "        [ 19,  16,  11],\n",
       "        [ 23,  17,  12],\n",
       "        ...,\n",
       "        [120, 136, 149],\n",
       "        [120, 136, 149],\n",
       "        [120, 136, 149]],\n",
       "\n",
       "       [[ 16,  13,   8],\n",
       "        [ 20,  17,  12],\n",
       "        [ 25,  19,  14],\n",
       "        ...,\n",
       "        [118, 134, 147],\n",
       "        [118, 134, 147],\n",
       "        [119, 135, 148]]], dtype=uint8)"
      ]
     },
     "execution_count": 2,
     "metadata": {},
     "output_type": "execute_result"
    }
   ],
   "source": [
    "#Reading/Loading an Image\n",
    "img = cv.imread('cat.jpg') #will load image as numpy.ndarray\n",
    "img"
   ]
  },
  {
   "cell_type": "code",
   "execution_count": 3,
   "metadata": {},
   "outputs": [],
   "source": [
    "#displaying loaded image\n",
    "cv.imshow('Image', img) #displays image in new window \n",
    "cv.waitKey(0) #waits until key pressed or canceled, if arg=3000 waits for 3s (3000ms)\n",
    "cv.destroyAllWindows() #close windows after execution"
   ]
  },
  {
   "cell_type": "code",
   "execution_count": 4,
   "metadata": {},
   "outputs": [],
   "source": [
    "#converting image to Grayscale\n",
    "gray_img = cv.cvtColor(img, cv.COLOR_BGR2GRAY) #arg1=source_image, arg2=Color_to_Grayscale"
   ]
  },
  {
   "cell_type": "code",
   "execution_count": 5,
   "metadata": {},
   "outputs": [
    {
     "data": {
      "text/plain": [
       "True"
      ]
     },
     "execution_count": 5,
     "metadata": {},
     "output_type": "execute_result"
    }
   ],
   "source": [
    "#writing/saving output as an image\n",
    "cv.imwrite('output.png', gray_img) #arg1=name & type, arg2=source image"
   ]
  },
  {
   "cell_type": "markdown",
   "metadata": {},
   "source": [
    "# Video"
   ]
  },
  {
   "cell_type": "code",
   "execution_count": 6,
   "metadata": {},
   "outputs": [],
   "source": [
    "#Reading/capturing video (frame by frame)\n",
    "video = cv.VideoCapture(0) #arg=0 (built-in camera), arg=1 (external camera & so on). Can also pass video files.\n",
    "#for writing/saving video\n",
    "fourcc = cv.VideoWriter_fourcc(*'XVID') #FourCC is a Video Codec Code. (More on: www.fourCC.org)\n",
    "output = cv.VideoWriter('output.avi', fourcc, 20, (640,480)) #will create an empty video file, arg1=name & type, arg2=fourCC, arg3=frames per second, arg4=touple(width, height) of output\n",
    "\n",
    "while True: #will execute until 'break' (loop frame by frame)\n",
    "#in case of video file =>[while (video.isOpened())] will return 'True' until video frames ends\n",
    "    #capture frame by frame\n",
    "    check, frame = video.read() #video.read() will return tuple (boolean, ndarray) (boolean=frame has any value or not, ndarray=array of frame/image)     \n",
    "    #our operations on frame come here\n",
    "    gray_frame = cv.cvtColor(frame, cv.COLOR_BGR2GRAY) #converting frame/image to Grayscale   \n",
    "    #display the resulting frame\n",
    "    cv.imshow('Video', gray_frame)\n",
    "    #to get frame width & height (to be used in output)\n",
    "#     print(video.get(cv.CAP_PROP_FRAME_WIDTH))\n",
    "#     print(video.get(cv.CAP_PROP_FRAME_HEIGHT))\n",
    "    \n",
    "    output.write(frame) #pass the 'frame' to save/write in video file created above, (Warning: passing gray_frame/single_channel_frame will not create video)\n",
    "    #breaking the loop\n",
    "    key = cv.waitKey(1) #waits for 1ms before next loop/frame, or will return ordinal # of pressed key (i.e:'q'=113)\n",
    "    if key == ord('q'): #if key=113 then break\n",
    "        break\n",
    "    #or\n",
    "#     if cv.waitKey(1) == ord('q'):\n",
    "#         break\n",
    "\n",
    "#when everything is done     \n",
    "video.release() #release the camera/source\n",
    "output.release() #release output video file\n",
    "cv.destroyAllWindows()"
   ]
  },
  {
   "cell_type": "code",
   "execution_count": null,
   "metadata": {},
   "outputs": [],
   "source": []
  }
 ],
 "metadata": {
  "kernelspec": {
   "display_name": "Python 3",
   "language": "python",
   "name": "python3"
  },
  "language_info": {
   "codemirror_mode": {
    "name": "ipython",
    "version": 3
   },
   "file_extension": ".py",
   "mimetype": "text/x-python",
   "name": "python",
   "nbconvert_exporter": "python",
   "pygments_lexer": "ipython3",
   "version": "3.8.1"
  }
 },
 "nbformat": 4,
 "nbformat_minor": 4
}
